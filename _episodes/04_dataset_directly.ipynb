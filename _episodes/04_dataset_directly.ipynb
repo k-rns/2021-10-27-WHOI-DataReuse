{
 "cells": [
  {
   "cell_type": "markdown",
   "id": "c4013785",
   "metadata": {},
   "source": [
    "# ERDDAPY library\n",
    "\n",
    "In the previous lesson, we downloaded our dataset file to our local machine. Now we will not download it to your local machine, but use in in your python environment directly. \n",
    "\n",
    "Erddapy is a package that helps create the ERDDAP URLs. You can create virtually any request like, searching for datasets, acquiring metadata, downloading data, etc.\n",
    "\n"
   ]
  },
  {
   "cell_type": "markdown",
   "id": "f46e6cc3",
   "metadata": {},
   "source": [
    "## Create the URL\n",
    "\n",
    "Step 1: Instantiate the ERDDAP URL constructor for a server ( erddapy server object). "
   ]
  },
  {
   "cell_type": "code",
   "execution_count": 1,
   "id": "141719a5",
   "metadata": {},
   "outputs": [
    {
     "name": "stdout",
     "output_type": "stream",
     "text": [
      "Initiation done\n"
     ]
    }
   ],
   "source": [
    "#Import erddap package into \n",
    "from erddapy import ERDDAP\n",
    "\n",
    "# Initiate the ERDDAP URL constructor for a server. \n",
    "e = ERDDAP(\n",
    "    server= \"https://erddap.bco-dmo.org/erddap/\",\n",
    "    protocol=\"tabledap\",\n",
    "    response=\"csv\",\n",
    ")\n",
    "print (\"Initiation done\")"
   ]
  },
  {
   "cell_type": "markdown",
   "id": "31153362",
   "metadata": {},
   "source": [
    "Step 2: Populate the object with  a dataset id, variables of interest,  and its constraints. We can download the csvp response with the `.to_pandas` method."
   ]
  },
  {
   "cell_type": "code",
   "execution_count": 2,
   "id": "ee20df40",
   "metadata": {},
   "outputs": [
    {
     "name": "stdout",
     "output_type": "stream",
     "text": [
      "setting variables done\n"
     ]
    }
   ],
   "source": [
    "e.dataset_id = \"bcodmo_dataset_817952\"\n",
    "\n",
    "e.variables = [\n",
    "    \"Cruise\",\n",
    "    \"latitude\",\n",
    "    \"longitude\",\n",
    "    \"Date_Time_PST\",\n",
    "    \"Temperature\",\n",
    "    \"Salinity\",\n",
    "    \"PN\",\n",
    "    \"POC\",\n",
    "    \"time\"\n",
    "]\n",
    "\n",
    "e.constraints = {\n",
    "    \"time>=\": \"2016-01-26T09:45Z\",\n",
    "    \"time<=\": \"2016-12-07T04:40Z\",\n",
    "}\n",
    "\n",
    "print (\"setting variables done\")"
   ]
  },
  {
   "cell_type": "markdown",
   "id": "b8014f7a",
   "metadata": {},
   "source": [
    "Check the full URL"
   ]
  },
  {
   "cell_type": "code",
   "execution_count": 3,
   "id": "24b541ee",
   "metadata": {},
   "outputs": [
    {
     "name": "stdout",
     "output_type": "stream",
     "text": [
      "https://erddap.bco-dmo.org/erddap/tabledap/bcodmo_dataset_817952.csv?Cruise,latitude,longitude,Date_Time_PST,Temperature,Salinity,PN,POC,time&time>=1453801500.0&time<=1481085600.0\n"
     ]
    }
   ],
   "source": [
    "# Print the URL - check\n",
    "url = e.get_download_url()\n",
    "print(url)"
   ]
  },
  {
   "cell_type": "markdown",
   "id": "8496402b",
   "metadata": {},
   "source": [
    "## Import into Python Pandas"
   ]
  },
  {
   "cell_type": "markdown",
   "id": "0dd28ebf",
   "metadata": {},
   "source": [
    "Import the dataset into a pandas dataframe. Import the csvp response with the `.to_pandas` method."
   ]
  },
  {
   "cell_type": "code",
   "execution_count": 44,
   "id": "288da428",
   "metadata": {},
   "outputs": [
    {
     "data": {
      "text/html": [
       "<div>\n",
       "<style scoped>\n",
       "    .dataframe tbody tr th:only-of-type {\n",
       "        vertical-align: middle;\n",
       "    }\n",
       "\n",
       "    .dataframe tbody tr th {\n",
       "        vertical-align: top;\n",
       "    }\n",
       "\n",
       "    .dataframe thead th {\n",
       "        text-align: right;\n",
       "    }\n",
       "</style>\n",
       "<table border=\"1\" class=\"dataframe\">\n",
       "  <thead>\n",
       "    <tr style=\"text-align: right;\">\n",
       "      <th></th>\n",
       "      <th>Cruise (unitless)</th>\n",
       "      <th>latitude (degrees_north)</th>\n",
       "      <th>longitude (degrees_east)</th>\n",
       "      <th>Date_Time_PST (unitless)</th>\n",
       "      <th>Temperature (degrees Celsius (\\u00b0C))</th>\n",
       "      <th>Salinity (unitless)</th>\n",
       "      <th>PN (micromoles N per liter of water (um/L))</th>\n",
       "      <th>POC (micromoles C per liter of water (um/L))</th>\n",
       "    </tr>\n",
       "    <tr>\n",
       "      <th>time (UTC)</th>\n",
       "      <th></th>\n",
       "      <th></th>\n",
       "      <th></th>\n",
       "      <th></th>\n",
       "      <th></th>\n",
       "      <th></th>\n",
       "      <th></th>\n",
       "      <th></th>\n",
       "    </tr>\n",
       "  </thead>\n",
       "  <tbody>\n",
       "    <tr>\n",
       "      <th>2016-12-07 04:27:00+00:00</th>\n",
       "      <td>OC1611B</td>\n",
       "      <td>44.6489</td>\n",
       "      <td>-124.1156</td>\n",
       "      <td>12/6/2016 20:27</td>\n",
       "      <td>12.34</td>\n",
       "      <td>30.71</td>\n",
       "      <td>0.73</td>\n",
       "      <td>6.46</td>\n",
       "    </tr>\n",
       "    <tr>\n",
       "      <th>2016-03-11 17:49:00+00:00</th>\n",
       "      <td>OC1603B</td>\n",
       "      <td>44.6500</td>\n",
       "      <td>-124.1002</td>\n",
       "      <td>3/11/2016 9:49</td>\n",
       "      <td>11.96</td>\n",
       "      <td>30.58</td>\n",
       "      <td>1.54</td>\n",
       "      <td>10.04</td>\n",
       "    </tr>\n",
       "    <tr>\n",
       "      <th>2016-03-11 18:40:00+00:00</th>\n",
       "      <td>OC1603B</td>\n",
       "      <td>44.6499</td>\n",
       "      <td>-124.1527</td>\n",
       "      <td>3/11/2016 10:40</td>\n",
       "      <td>11.86</td>\n",
       "      <td>29.79</td>\n",
       "      <td>2.38</td>\n",
       "      <td>19.43</td>\n",
       "    </tr>\n",
       "    <tr>\n",
       "      <th>2016-03-11 19:29:00+00:00</th>\n",
       "      <td>OC1603B</td>\n",
       "      <td>44.6503</td>\n",
       "      <td>-124.3399</td>\n",
       "      <td>3/11/2016 11:29</td>\n",
       "      <td>11.62</td>\n",
       "      <td>32.43</td>\n",
       "      <td>0.41</td>\n",
       "      <td>3.78</td>\n",
       "    </tr>\n",
       "    <tr>\n",
       "      <th>2016-03-11 20:07:00+00:00</th>\n",
       "      <td>OC1603B</td>\n",
       "      <td>44.6491</td>\n",
       "      <td>-124.4099</td>\n",
       "      <td>3/11/2016 12:07</td>\n",
       "      <td>11.62</td>\n",
       "      <td>32.43</td>\n",
       "      <td>0.51</td>\n",
       "      <td>3.63</td>\n",
       "    </tr>\n",
       "  </tbody>\n",
       "</table>\n",
       "</div>"
      ],
      "text/plain": [
       "                          Cruise (unitless)  latitude (degrees_north)  \\\n",
       "time (UTC)                                                              \n",
       "2016-12-07 04:27:00+00:00           OC1611B                   44.6489   \n",
       "2016-03-11 17:49:00+00:00           OC1603B                   44.6500   \n",
       "2016-03-11 18:40:00+00:00           OC1603B                   44.6499   \n",
       "2016-03-11 19:29:00+00:00           OC1603B                   44.6503   \n",
       "2016-03-11 20:07:00+00:00           OC1603B                   44.6491   \n",
       "\n",
       "                           longitude (degrees_east) Date_Time_PST (unitless)  \\\n",
       "time (UTC)                                                                     \n",
       "2016-12-07 04:27:00+00:00                 -124.1156          12/6/2016 20:27   \n",
       "2016-03-11 17:49:00+00:00                 -124.1002           3/11/2016 9:49   \n",
       "2016-03-11 18:40:00+00:00                 -124.1527          3/11/2016 10:40   \n",
       "2016-03-11 19:29:00+00:00                 -124.3399          3/11/2016 11:29   \n",
       "2016-03-11 20:07:00+00:00                 -124.4099          3/11/2016 12:07   \n",
       "\n",
       "                           Temperature (degrees Celsius (\\u00b0C))  \\\n",
       "time (UTC)                                                           \n",
       "2016-12-07 04:27:00+00:00                                    12.34   \n",
       "2016-03-11 17:49:00+00:00                                    11.96   \n",
       "2016-03-11 18:40:00+00:00                                    11.86   \n",
       "2016-03-11 19:29:00+00:00                                    11.62   \n",
       "2016-03-11 20:07:00+00:00                                    11.62   \n",
       "\n",
       "                           Salinity (unitless)  \\\n",
       "time (UTC)                                       \n",
       "2016-12-07 04:27:00+00:00                30.71   \n",
       "2016-03-11 17:49:00+00:00                30.58   \n",
       "2016-03-11 18:40:00+00:00                29.79   \n",
       "2016-03-11 19:29:00+00:00                32.43   \n",
       "2016-03-11 20:07:00+00:00                32.43   \n",
       "\n",
       "                           PN (micromoles N per liter of water (um/L))  \\\n",
       "time (UTC)                                                               \n",
       "2016-12-07 04:27:00+00:00                                         0.73   \n",
       "2016-03-11 17:49:00+00:00                                         1.54   \n",
       "2016-03-11 18:40:00+00:00                                         2.38   \n",
       "2016-03-11 19:29:00+00:00                                         0.41   \n",
       "2016-03-11 20:07:00+00:00                                         0.51   \n",
       "\n",
       "                           POC (micromoles C per liter of water (um/L))  \n",
       "time (UTC)                                                               \n",
       "2016-12-07 04:27:00+00:00                                          6.46  \n",
       "2016-03-11 17:49:00+00:00                                         10.04  \n",
       "2016-03-11 18:40:00+00:00                                         19.43  \n",
       "2016-03-11 19:29:00+00:00                                          3.78  \n",
       "2016-03-11 20:07:00+00:00                                          3.63  "
      ]
     },
     "execution_count": 44,
     "metadata": {},
     "output_type": "execute_result"
    }
   ],
   "source": [
    "# Convert URL to pandas dataframe\n",
    "df = e.to_pandas(\n",
    "    index_col=\"time (UTC)\",\n",
    "    parse_dates=True,\n",
    ").dropna()\n",
    "\n",
    "df.head()"
   ]
  },
  {
   "cell_type": "markdown",
   "id": "a478708c",
   "metadata": {},
   "source": [
    "Check the dataframe and start using it into your pythin environment"
   ]
  },
  {
   "cell_type": "code",
   "execution_count": 45,
   "id": "bfd268de",
   "metadata": {},
   "outputs": [
    {
     "name": "stdout",
     "output_type": "stream",
     "text": [
      "<class 'pandas.core.frame.DataFrame'>\n",
      "DatetimeIndex: 113 entries, 2016-12-07 04:27:00+00:00 to 2016-01-26 14:16:00+00:00\n",
      "Data columns (total 8 columns):\n",
      " #   Column                                        Non-Null Count  Dtype  \n",
      "---  ------                                        --------------  -----  \n",
      " 0   Cruise (unitless)                             113 non-null    object \n",
      " 1   latitude (degrees_north)                      113 non-null    float64\n",
      " 2   longitude (degrees_east)                      113 non-null    float64\n",
      " 3   Date_Time_PST (unitless)                      113 non-null    object \n",
      " 4   Temperature (degrees Celsius (\\u00b0C))       113 non-null    float64\n",
      " 5   Salinity (unitless)                           113 non-null    float64\n",
      " 6   PN (micromoles N per liter of water (um/L))   113 non-null    float64\n",
      " 7   POC (micromoles C per liter of water (um/L))  113 non-null    float64\n",
      "dtypes: float64(6), object(2)\n",
      "memory usage: 7.9+ KB\n",
      "None\n"
     ]
    }
   ],
   "source": [
    "print(df.info())"
   ]
  },
  {
   "cell_type": "code",
   "execution_count": null,
   "id": "da90979a",
   "metadata": {},
   "outputs": [],
   "source": []
  },
  {
   "cell_type": "code",
   "execution_count": 46,
   "id": "d06b30b0",
   "metadata": {},
   "outputs": [
    {
     "name": "stdout",
     "output_type": "stream",
     "text": [
      "Index(['Cruise (unitless)', 'latitude (degrees_north)',\n",
      "       'longitude (degrees_east)', 'Date_Time_PST (unitless)',\n",
      "       'Temperature (degrees Celsius (\\u00b0C))', 'Salinity (unitless)',\n",
      "       'PN (micromoles N per liter of water (um/L))',\n",
      "       'POC (micromoles C per liter of water (um/L))'],\n",
      "      dtype='object')\n"
     ]
    }
   ],
   "source": [
    "print (df.columns)"
   ]
  },
  {
   "cell_type": "code",
   "execution_count": 47,
   "id": "e7ad7e25",
   "metadata": {},
   "outputs": [
    {
     "data": {
      "image/png": "[encoded data removed]",
      "text/plain": [
       "<Figure size 1224x720 with 2 Axes>"
      ]
     },
     "metadata": {
      "needs_background": "light"
     },
     "output_type": "display_data"
    }
   ],
   "source": [
    "%matplotlib inline\n",
    "\n",
    "import matplotlib.pyplot as plt\n",
    "import matplotlib.dates as mdates\n",
    "\n",
    "fig, ax = plt.subplots(figsize=(17, 10))\n",
    "cs = ax.scatter(\n",
    "    x=df[\"longitude (degrees_east)\"],\n",
    "    y=df[\"latitude (degrees_north)\"],\n",
    "    s=15,\n",
    "    c=df[\"PN (micromoles N per liter of water (um/L))\"],\n",
    "    marker=\"o\",\n",
    "    edgecolor=\"none\"\n",
    ")\n",
    "\n",
    "cbar = fig.colorbar(cs, orientation=\"vertical\", extend=\"both\")\n",
    "cbar.ax.set_ylabel(\"PN (micromoles N per liter of water (um/L))\")\n",
    "ax.set_ylabel(\"latitude\");\n",
    "ax.set_xlabel(\"longitude\");"
   ]
  },
  {
   "cell_type": "code",
   "execution_count": null,
   "id": "14a19510",
   "metadata": {},
   "outputs": [],
   "source": []
  },
  {
   "cell_type": "code",
   "execution_count": null,
   "id": "258b0623",
   "metadata": {},
   "outputs": [],
   "source": []
  }
 ],
 "metadata": {
  "kernelspec": {
   "display_name": "Python 3 (ipykernel)",
   "language": "python",
   "name": "python3"
  },
  "language_info": {
   "codemirror_mode": {
    "name": "ipython",
    "version": 3
   },
   "file_extension": ".py",
   "mimetype": "text/x-python",
   "name": "python",
   "nbconvert_exporter": "python",
   "pygments_lexer": "ipython3",
   "version": "3.9.7"
  }
 },
 "nbformat": 4,
 "nbformat_minor": 5
}
