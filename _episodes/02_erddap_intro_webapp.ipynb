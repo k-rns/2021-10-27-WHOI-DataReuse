{
 "cells": [
  {
   "cell_type": "markdown",
   "id": "91c42461",
   "metadata": {},
   "source": [
    "# Open Data\n",
    "\n",
    "Open data has the potential to accelerate science. If we don't have to re-invent the wheel, we can move forward in a faster way.\n",
    "\n",
    "When applying for grants nowadays, often there is a requirement that as a scientist you need to share your data with the public:\n",
    "\n",
    "* **NSF-OCE**: [Sample and Data Policy NSF Division of Ocean Sciences](https://www.nsf.gov/pubs/2017/nsf17037/nsf17037.jsp): *\"PIs are expected to **share with other researchers and the public,** ..., the data,  samples, physical collections, and other supporting materials created or gathered in the course of work under NSF grants.\"*\n",
    "* **Ocean Observatory Initiative**: [OOI Data Policy](https://ooi-website.whoi.edu/wp-content/uploads/2010/05/1102-00010_Data_Use_Policy_OOI.pdf): In principle, *all OOI data will be made **publicly available**, free of charge, to anyone.*\n",
    "* **Biogeochemical Argo**: [data management rules](https://biogeochemical-argo.org/data-management.php): *data are made **publicly available***\n",
    "\n",
    "\n",
    "\n",
    "When working with Open Data it is important that end-users reusing data have all the knowledge necessary to be able to trust and understand the data they want to re-use.  End-users can be both humans and computers\n",
    "\n",
    "Domain-specific repositories and have the role to make sure the data they receive have the correct domain- specific, standardized metadata and make them publicly available. Metrics to see if a package is truly \"Open Data\" are the  F.A.I.R principles. \n",
    "\n",
    "Researcher (data acquisition & analysis) -> Data Repository ->  Data Reuse (multiple researchers)"
   ]
  },
  {
   "cell_type": "markdown",
   "id": "585b7e9f",
   "metadata": {},
   "source": [
    "# Aligning data sources \n",
    "\n",
    "Reusing data from another source is often difficult:\n",
    "\n",
    "* different way of requesting data\n",
    "* different formats: you work with R while colleague is working with Matlab and the other one with python\n",
    "* Need for standardised metadata\n",
    "\n",
    "Example Dryad (without naming the repo): excel file or matlab file. \n",
    "\n",
    "**This is where ERDDAP comes in.** It gives repo's the ability to, in a consistent way, download  subsets of gridded and tabular scientific datasets in common file formats and make graphs and maps. \n",
    "\n",
    "Many repositories use an erddap server to distributing data to end users who can request data and get data out in various file formats.  \n"
   ]
  },
  {
   "cell_type": "markdown",
   "id": "962ad938",
   "metadata": {},
   "source": [
    "# Repo specific ERDDAP servers\n",
    "\n",
    "Many organizations (including NOAA, NASA, and USGS) run ERDDAP servers  to serve their data. Because of its widespread use and accessibility,  the ERDDAP principal developer and user community have created **[user guides](http://erddap.dataexplorer.oceanobservatories.org/erddap/index.html)**, **[instruction videos](https://youtu.be/RPIM5nFlNNY)**, and code examples to facilitate access by new users.\n",
    "\n",
    "\n",
    "\n",
    "**BCO-DMO ERDDAP** \n",
    "\n",
    "* Domain:\n",
    "\n",
    "* BCO-DMO only has tabular data files on its ERDDAP server, but other repositories like OOI have netcdf files online. \n",
    "* Server: https://erddap.bco-dmo.org/erddap/index.html \n",
    "\n",
    "\n",
    "\n",
    "**OOI**\n",
    "\n",
    "* Domain: \n",
    "\n",
    "* OOI’s ERDDAP server has ~600 datasets listed in alphabetical order by  source (OOI array). Datasets can be searched using full text, by  metadata category or protocol, with an additional option of advanced  search. All OOI ERDDAP datasets have been uploaded on OOI’s Data  Explorer so users can access ERDDAP data there then use this amazing  tool to compare, combine, and visualize datasets\n",
    "\n",
    "* Server: https://erddap.dataexplorer.oceanobservatories.org/erddap/index.html \n",
    "\n",
    "\n",
    "\n",
    "BGC-Argo: Do they have an erddap server?  \n",
    "\n",
    "* Domain: \n",
    "* Description\n",
    "* Server"
   ]
  },
  {
   "cell_type": "markdown",
   "id": "4fa02322",
   "metadata": {},
   "source": [
    "## Exercise:\n",
    "\n",
    "Search for a dataset on their specific servers via the web application. Inspect the metadata, can you understand the dataset enought to be able to use it? : \n",
    "\n",
    "* ERDDAP metadata\n",
    "* Searching erddap\n",
    "\n",
    "How does a data package look? Metadata structure\n",
    "\n",
    "\\- **Accessing and visualizing data through ERDDAP**\n",
    "\n",
    "1. ERDDAP Introduction\n",
    "2. Finding datasets on ERDDAP, Gather information about a dataset\n",
    "3. Visualization and download data\n",
    "4. Automating ERDDAP requests\n",
    "5. Timeseries and Hovmoller diagrams\n",
    "6. Mapping Hurricane Jose with winds\n",
    "7. Tabular Datasets, BGC-Argo data"
   ]
  },
  {
   "cell_type": "code",
   "execution_count": null,
   "id": "910eb7ae",
   "metadata": {},
   "outputs": [],
   "source": []
  }
 ],
 "metadata": {
  "kernelspec": {
   "display_name": "Python 3 (ipykernel)",
   "language": "python",
   "name": "python3"
  },
  "language_info": {
   "codemirror_mode": {
    "name": "ipython",
    "version": 3
   },
   "file_extension": ".py",
   "mimetype": "text/x-python",
   "name": "python",
   "nbconvert_exporter": "python",
   "pygments_lexer": "ipython3",
   "version": "3.9.7"
  }
 },
 "nbformat": 4,
 "nbformat_minor": 5
}
