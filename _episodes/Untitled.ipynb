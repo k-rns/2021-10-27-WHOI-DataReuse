{
 "cells": [
  {
   "cell_type": "code",
   "execution_count": 1,
   "id": "5e03f38c",
   "metadata": {},
   "outputs": [],
   "source": [
    "import urllib.request"
   ]
  },
  {
   "cell_type": "code",
   "execution_count": 9,
   "id": "44dcf865",
   "metadata": {},
   "outputs": [],
   "source": [
    "download_url = \"https://erddap.bco-dmo.org/erddap/tabledap/bcodmo_dataset_783911.csv?Station,time,Temperature,latitude,longitude&Temperature%3E=0&Temperature%3C=2\"\n"
   ]
  },
  {
   "cell_type": "code",
   "execution_count": 10,
   "id": "4b64ba75",
   "metadata": {},
   "outputs": [],
   "source": [
    "# Define where you want to save the file on your computer\n",
    "name_to_save = \"bcodmo_dataset_815732.csv\""
   ]
  },
  {
   "cell_type": "code",
   "execution_count": 11,
   "id": "c495f61c",
   "metadata": {},
   "outputs": [
    {
     "data": {
      "text/plain": [
       "('bcodmo_dataset_815732.csv', <http.client.HTTPMessage at 0x252050103a0>)"
      ]
     },
     "execution_count": 11,
     "metadata": {},
     "output_type": "execute_result"
    }
   ],
   "source": [
    "urllib.request.urlretrieve (download_url,name_to_save)"
   ]
  },
  {
   "cell_type": "code",
   "execution_count": null,
   "id": "7e176f7e",
   "metadata": {},
   "outputs": [],
   "source": []
  }
 ],
 "metadata": {
  "kernelspec": {
   "display_name": "Python 3 (ipykernel)",
   "language": "python",
   "name": "python3"
  },
  "language_info": {
   "codemirror_mode": {
    "name": "ipython",
    "version": 3
   },
   "file_extension": ".py",
   "mimetype": "text/x-python",
   "name": "python",
   "nbconvert_exporter": "python",
   "pygments_lexer": "ipython3",
   "version": "3.9.7"
  }
 },
 "nbformat": 4,
 "nbformat_minor": 5
}
