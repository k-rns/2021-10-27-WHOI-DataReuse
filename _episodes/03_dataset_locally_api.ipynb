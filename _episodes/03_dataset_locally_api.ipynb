{
 "cells": [
  {
   "cell_type": "markdown",
   "id": "42788fe8",
   "metadata": {},
   "source": [
    "# Download a dataset to your local machine\n",
    "\n",
    "Download your dataset to your local machine in the file type you need.\n",
    "\n",
    "Example repo: https://coastwatch.gitbook.io/satellite-course/tutorials/python-tutorial/1.-how-to-work-with-satellite-data-in-python \n",
    "\n",
    "### Choose your file type\n",
    "\n",
    "Specifies the type of table data file that you  want to download. You can use different filetype based on your specific needs and your community, you can download files for matlab binary file, netcdf, .csv (for R and Python), GIS, etc. The column below gives all the formats available:   \n",
    "\n",
    "| Data fileTypes                                               | Description                                                  |\n",
    "| ------------------------------------------------------------ | :----------------------------------------------------------- |\n",
    "| [.asc](https://coastwatch.pfeg.noaa.gov/erddap/tabledap/documentation.html#fileType_asc) | View OPeNDAP-style ISO-8859-1 comma-separated text.          |\n",
    "| [.csv](https://coastwatch.pfeg.noaa.gov/erddap/tabledap/documentation.html#fileType_csv) | Download a ISO-8859-1 comma-separated text table (line 1: names; line 2: units; ISO 8601 times). |\n",
    "| [.csvp](https://coastwatch.pfeg.noaa.gov/erddap/tabledap/documentation.html#fileType_csvp) | Download a ISO-8859-1 .csv file with line 1: name (units). Times are ISO 8601 strings. |\n",
    "| [.csv0](https://coastwatch.pfeg.noaa.gov/erddap/tabledap/documentation.html#fileType_csv0) | Download a ISO-8859-1 .csv file without column names or units. Times are ISO 8601 strings. |\n",
    "| [.dataTable](https://coastwatch.pfeg.noaa.gov/erddap/tabledap/documentation.html#fileType_dataTable) | A JSON file formatted for use with the Google Visualization client library (Google Charts). |\n",
    "| [.das](https://coastwatch.pfeg.noaa.gov/erddap/tabledap/documentation.html#fileType_das) | View the dataset's metadata via an ISO-8859-1 OPeNDAP Dataset Attribute Structure (DAS). |\n",
    "| [.dds](https://coastwatch.pfeg.noaa.gov/erddap/tabledap/documentation.html#fileType_dds) | View the dataset's structure via an ISO-8859-1 OPeNDAP Dataset Descriptor Structure (DDS). |\n",
    "| [.dods](https://coastwatch.pfeg.noaa.gov/erddap/tabledap/documentation.html#fileType_dods) | OPeNDAP clients use this to download the data in the DODS binary format. |\n",
    "| [.esriCsv](https://coastwatch.pfeg.noaa.gov/erddap/tabledap/documentation.html#fileType_esriCsv) | Download a ISO_8859_1 .csv file for ESRI's ArcGIS 9.x and below (separate date and time columns). |\n",
    "| [.fgdc](https://coastwatch.pfeg.noaa.gov/erddap/tabledap/documentation.html#fileType_fgdc) | View the dataset's UTF-8 FGDC .xml metadata.                 |\n",
    "| [.geoJson](https://coastwatch.pfeg.noaa.gov/erddap/tabledap/documentation.html#fileType_geoJson) | Download longitude,latitude,otherColumns data as a UTF-8 GeoJSON .json file. |\n",
    "| [.graph](https://coastwatch.pfeg.noaa.gov/erddap/tabledap/documentation.html#fileType_graph) | View a Make A Graph web page.                                |\n",
    "| [.help](https://coastwatch.pfeg.noaa.gov/erddap/tabledap/documentation.html#fileType_help) | View a web page with a description of tabledap.              |\n",
    "| [.html](https://coastwatch.pfeg.noaa.gov/erddap/tabledap/documentation.html#fileType_html) | View an OPeNDAP-style HTML Data Access Form.                 |\n",
    "| [.htmlTable](https://coastwatch.pfeg.noaa.gov/erddap/tabledap/documentation.html#fileType_htmlTable) | View a UTF-8 .html web page with the data in a table. Times are ISO 8601 strings. |\n",
    "| [.iso19115](https://coastwatch.pfeg.noaa.gov/erddap/tabledap/documentation.html#fileType_iso19115) | View the dataset's ISO 19115-2/19139 UTF-8 .xml metadata.    |\n",
    "| [.itx](https://coastwatch.pfeg.noaa.gov/erddap/tabledap/documentation.html#fileType_itx) | Download an ISO-8859-1 Igor Text File. Each response column becomes a wave. |\n",
    "| [.json](https://coastwatch.pfeg.noaa.gov/erddap/tabledap/documentation.html#fileType_json) | View a table-like UTF-8 JSON file (missing value = 'null'; times are ISO 8601 strings). |\n",
    "| [.jsonlCSV1](https://coastwatch.pfeg.noaa.gov/erddap/tabledap/documentation.html#fileType_jsonlCSV1) | View a UTF-8 JSON Lines CSV file with column names on line 1 (mv = 'null'; times are ISO 8601 strings). |\n",
    "| [.jsonlCSV](https://coastwatch.pfeg.noaa.gov/erddap/tabledap/documentation.html#fileType_jsonlCSV) | View a UTF-8 JSON Lines CSV file without column names (mv = 'null'; times are ISO 8601 strings). |\n",
    "| [.jsonlKVP](https://coastwatch.pfeg.noaa.gov/erddap/tabledap/documentation.html#fileType_jsonlKVP) | View a UTF-8 JSON Lines file with Key:Value pairs (missing value = 'null'; times are ISO 8601 strings). |\n",
    "| [.mat](https://coastwatch.pfeg.noaa.gov/erddap/tabledap/documentation.html#fileType_mat) | Download a MATLAB binary file.                               |\n",
    "| [.nc](https://coastwatch.pfeg.noaa.gov/erddap/tabledap/documentation.html#fileType_nc) | Download a flat, table-like, NetCDF-3 binary file with COARDS/CF/ACDD metadata. |\n",
    "| [.ncHeader](https://coastwatch.pfeg.noaa.gov/erddap/tabledap/documentation.html#fileType_ncHeader) | View the UTF-8 header (the metadata) for the NetCDF-3 .nc file. |\n",
    "| [.ncCF](https://coastwatch.pfeg.noaa.gov/erddap/tabledap/documentation.html#fileType_ncCF) | Download a NetCDF-3 CF Discrete Sampling Geometries file (Contiguous Ragged Array). |\n",
    "| [.ncCFHeader](https://coastwatch.pfeg.noaa.gov/erddap/tabledap/documentation.html#fileType_ncCFHeader) | View the UTF-8 header (the metadata) for the .ncCF file.     |\n",
    "| [.ncCFMA](https://coastwatch.pfeg.noaa.gov/erddap/tabledap/documentation.html#fileType_ncCFMA) | Download a NetCDF-3 CF Discrete Sampling Geometries file (Multidimensional Array). |\n",
    "| [.ncCFMAHeader](https://coastwatch.pfeg.noaa.gov/erddap/tabledap/documentation.html#fileType_ncCFMAHeader) | View the UTF-8 header (the metadata) for the .ncCFMA file.   |\n",
    "| [.nccsv](https://coastwatch.pfeg.noaa.gov/erddap/tabledap/documentation.html#fileType_nccsv) | Download a NetCDF-3-like 7-bit ASCII NCCSV .csv file with COARDS/CF/ACDD metadata. |\n",
    "| [.nccsvMetadata](https://coastwatch.pfeg.noaa.gov/erddap/tabledap/documentation.html#fileType_nccsvMetadata) | View the dataset's metadata as the top half of a 7-bit ASCII NCCSV .csv file. |\n",
    "| [.ncoJson](https://coastwatch.pfeg.noaa.gov/erddap/tabledap/documentation.html#fileType_ncoJson) | Download a UTF-8 NCO lvl=2 JSON file with COARDS/CF/ACDD metadata. |\n",
    "| [.odvTxt](https://coastwatch.pfeg.noaa.gov/erddap/tabledap/documentation.html#fileType_odvTxt) | Download longitude,latitude,time,otherColumns as an ISO-8859-1 ODV Generic Spreadsheet File (.txt). |\n",
    "| [.subset](https://coastwatch.pfeg.noaa.gov/erddap/tabledap/documentation.html#fileType_subset) | View an HTML form which uses faceted search to simplify picking subsets of the data. |\n",
    "| [.tsv](https://coastwatch.pfeg.noaa.gov/erddap/tabledap/documentation.html#fileType_tsv) | Download a ISO-8859-1 tab-separated text table (line 1: names; line 2: units; ISO 8601 times). |\n",
    "| [.tsvp](https://coastwatch.pfeg.noaa.gov/erddap/tabledap/documentation.html#fileType_tsvp) | Download a ISO-8859-1 .tsv file with line 1: name (units). Times are ISO 8601 strings. |\n",
    "| [.tsv0](https://coastwatch.pfeg.noaa.gov/erddap/tabledap/documentation.html#fileType_tsv0) | Download a ISO-8859-1 .tsv file without column names or units. Times are ISO 8601 strings. |\n",
    "| [.wav](https://coastwatch.pfeg.noaa.gov/erddap/tabledap/documentation.html#fileType_wav) | Download a .wav audio file. All columns must be numeric and of the same type. |\n",
    "| [.xhtml](https://coastwatch.pfeg.noaa.gov/erddap/tabledap/documentation.html#fileType_xhtml) | View a UTF-8 XHTML (XML) file with the data in a table. Times are ISO 8601 strings. |\n",
    "\n",
    "In this lesson we will use the .csv file type to import it in Jupyter Notebook and work with the Pandas library. \n",
    "\n",
    "IMPORTANT NOTE: The actual extension of the resulting file may be slightly different than the fileType (for example,  .htmlTable returns an .html file).  **To get a .csv file with the header names in the first row the file type is .csvp.** \n",
    "\n"
   ]
  },
  {
   "cell_type": "markdown",
   "id": "f71b4166",
   "metadata": {},
   "source": [
    "### Build the URL \n",
    "\n",
    "**Tabledap request URLs must be in the form** \n",
    "https://coastwatch.pfeg.noaa.gov/erddap/tabledap/*[datasetID](https://coastwatch.pfeg.noaa.gov/erddap/tabledap/documentation.html#datasetID)*.*[fileType](https://coastwatch.pfeg.noaa.gov/erddap/tabledap/documentation.html#fileType)*{?*[query](https://coastwatch.pfeg.noaa.gov/erddap/tabledap/documentation.html#query)*}"
   ]
  },
  {
   "cell_type": "markdown",
   "id": "a4176516",
   "metadata": {},
   "source": [
    "### Download the dataset with Python\n",
    "\n",
    "Download/import the **urllib package** into the Python environment  to work with url's in your environment:  [Python Documentation]("
   ]
  },
  {
   "cell_type": "code",
   "execution_count": 1,
   "id": "cb83fe69",
   "metadata": {},
   "outputs": [
    {
     "ename": "SyntaxError",
     "evalue": "invalid syntax (<ipython-input-1-d078dd2071b2>, line 5)",
     "output_type": "error",
     "traceback": [
      "\u001b[1;36m  File \u001b[1;32m\"<ipython-input-1-d078dd2071b2>\"\u001b[1;36m, line \u001b[1;32m5\u001b[0m\n\u001b[1;33m    download_url = https://erddap.bco-dmo.org/erddap/tabledapbcodmo_dataset_712367.csvp?tank%2CpH%2CTemp%2Cgenotype%2CJuly_mass%2CAugust_mass%2CSeptember_mass\u001b[0m\n\u001b[1;37m                        ^\u001b[0m\n\u001b[1;31mSyntaxError\u001b[0m\u001b[1;31m:\u001b[0m invalid syntax\n"
     ]
    }
   ],
   "source": [
    "# Import the urllib library\n",
    "import urllib.request\n",
    "\n",
    "#define the url you want to download\n",
    "download_url = https://erddap.bco-dmo.org/erddap/tabledapbcodmo_dataset_712367.csvp?tank%2CpH%2CTemp%2Cgenotype%2CJuly_mass%2CAugust_mass%2CSeptember_mass \n",
    "    \n",
    "# Define where you want to save the file on your computer\n",
    "path_to_save = \n",
    "\n",
    "# download the dataset   \n",
    "urllib.request.urlretrieve(url, \"path to save\")"
   ]
  },
  {
   "cell_type": "markdown",
   "id": "a5a841b6",
   "metadata": {},
   "source": [
    "Import the **Pandas library** to work with tables in your Python environment."
   ]
  },
  {
   "cell_type": "code",
   "execution_count": 2,
   "id": "2276f1d9",
   "metadata": {},
   "outputs": [],
   "source": [
    "# Import the downloaded .csv data into jupyter notebooks with the package Pandas\n",
    "import pandas as pd"
   ]
  },
  {
   "cell_type": "code",
   "execution_count": 3,
   "id": "c88c8048",
   "metadata": {},
   "outputs": [],
   "source": [
    "# Examine data structure\t"
   ]
  },
  {
   "cell_type": "markdown",
   "id": "19e00c73",
   "metadata": {},
   "source": [
    "# Subsetting datasets\n",
    "\n",
    "Subset your data of interest by adjusting the URL. "
   ]
  },
  {
   "cell_type": "markdown",
   "id": "8e120bd3",
   "metadata": {},
   "source": [
    "# Make a map\n",
    "\n",
    "If a dataset has location data (latitude, longitude or local coordinates), they can also be mapped in python. "
   ]
  },
  {
   "cell_type": "code",
   "execution_count": null,
   "id": "0a2c82c0",
   "metadata": {},
   "outputs": [],
   "source": []
  }
 ],
 "metadata": {
  "kernelspec": {
   "display_name": "Python 3",
   "language": "python",
   "name": "python3"
  },
  "language_info": {
   "codemirror_mode": {
    "name": "ipython",
    "version": 3
   },
   "file_extension": ".py",
   "mimetype": "text/x-python",
   "name": "python",
   "nbconvert_exporter": "python",
   "pygments_lexer": "ipython3",
   "version": "3.8.8"
  }
 },
 "nbformat": 4,
 "nbformat_minor": 5
}
