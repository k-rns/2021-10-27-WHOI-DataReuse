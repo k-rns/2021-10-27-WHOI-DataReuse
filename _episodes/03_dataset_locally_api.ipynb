{
 "cells": [
  {
   "cell_type": "markdown",
   "id": "a4176516",
   "metadata": {},
   "source": [
    "We just build the following URL in an exercise: \n",
    "\n",
    "https://erddap.bco-dmo.org/erddap/tabledap/bcodmo_dataset_815732.csv?Cruise_ID,Cast_ID,Station_ID,UTC_Date,UTC_Time,time,latitude,longitude,depth,Strain_Gauge_Pressure,Conductivity,Salinity,Temperature,Potential_Temp,Density,Sigma_theta,Oxygen_mLL,Oxygen_pcnt,PAR_Irradiance,ISUS,flag\n",
    "\n",
    "Let's now download it with python to our computer locally"
   ]
  },
  {
   "cell_type": "markdown",
   "id": "afb9622d",
   "metadata": {},
   "source": [
    "The urllib library is part of the erddapy package that you have installed. Import this package into the Python environment  to work with url's in your environment"
   ]
  },
  {
   "cell_type": "code",
   "execution_count": 1,
   "id": "8a939537",
   "metadata": {},
   "outputs": [],
   "source": [
    "# Import the urllib library\n",
    "import urllib.request\n"
   ]
  },
  {
   "cell_type": "markdown",
   "id": "89933696",
   "metadata": {},
   "source": [
    "Some characters cannot be part of a URL, like commas and >. When pasting a URL with comma's into your webbrowser it automatically translates those carachers into a different encoding before transmission. "
   ]
  },
  {
   "cell_type": "code",
   "execution_count": 2,
   "id": "6ba13078",
   "metadata": {},
   "outputs": [],
   "source": [
    "#define the url you want to download\n",
    "download_url = \"https://erddap.bco-dmo.org/erddap/tabledap/bcodmo_dataset_783911.csv?Station,time,Temperature,latitude,longitude&Temperature%3E=0&Temperature%3C=2\""
   ]
  },
  {
   "cell_type": "code",
   "execution_count": 3,
   "id": "3d7cfa5d",
   "metadata": {},
   "outputs": [
    {
     "data": {
      "text/plain": [
       "('bcodmo_dataset_815732.csv', <http.client.HTTPMessage at 0x11baf9352b0>)"
      ]
     },
     "execution_count": 3,
     "metadata": {},
     "output_type": "execute_result"
    }
   ],
   "source": [
    "# Define where you want to save the file on your computer\n",
    "name_to_save = \"bcodmo_dataset_815732.csv\"\n",
    "\n",
    "# download the dataset   \n",
    "urllib.request.urlretrieve(download_url, name_to_save)"
   ]
  },
  {
   "cell_type": "markdown",
   "id": "a5a841b6",
   "metadata": {},
   "source": [
    "Import the **Pandas library** to work with tables in your Python environment."
   ]
  },
  {
   "cell_type": "code",
   "execution_count": 4,
   "id": "2276f1d9",
   "metadata": {},
   "outputs": [
    {
     "data": {
      "text/html": [
       "<div>\n",
       "<style scoped>\n",
       "    .dataframe tbody tr th:only-of-type {\n",
       "        vertical-align: middle;\n",
       "    }\n",
       "\n",
       "    .dataframe tbody tr th {\n",
       "        vertical-align: top;\n",
       "    }\n",
       "\n",
       "    .dataframe thead th {\n",
       "        text-align: right;\n",
       "    }\n",
       "</style>\n",
       "<table border=\"1\" class=\"dataframe\">\n",
       "  <thead>\n",
       "    <tr style=\"text-align: right;\">\n",
       "      <th></th>\n",
       "      <th>Station</th>\n",
       "      <th>time</th>\n",
       "      <th>Temperature</th>\n",
       "      <th>latitude</th>\n",
       "      <th>longitude</th>\n",
       "    </tr>\n",
       "  </thead>\n",
       "  <tbody>\n",
       "    <tr>\n",
       "      <th>0</th>\n",
       "      <td>unitless</td>\n",
       "      <td>UTC</td>\n",
       "      <td>degrees Celsius (C)</td>\n",
       "      <td>degrees_north</td>\n",
       "      <td>degrees_east</td>\n",
       "    </tr>\n",
       "    <tr>\n",
       "      <th>1</th>\n",
       "      <td>1</td>\n",
       "      <td>2017-12-26T19:16:13Z</td>\n",
       "      <td>1.2502</td>\n",
       "      <td>-64.72202</td>\n",
       "      <td>-87.27946</td>\n",
       "    </tr>\n",
       "    <tr>\n",
       "      <th>2</th>\n",
       "      <td>1</td>\n",
       "      <td>2017-12-26T19:16:17Z</td>\n",
       "      <td>1.2482</td>\n",
       "      <td>-64.72202</td>\n",
       "      <td>-87.27946</td>\n",
       "    </tr>\n",
       "    <tr>\n",
       "      <th>3</th>\n",
       "      <td>1</td>\n",
       "      <td>2017-12-26T19:16:19Z</td>\n",
       "      <td>1.2462</td>\n",
       "      <td>-64.72202</td>\n",
       "      <td>-87.27946</td>\n",
       "    </tr>\n",
       "    <tr>\n",
       "      <th>4</th>\n",
       "      <td>1</td>\n",
       "      <td>2017-12-26T19:16:22Z</td>\n",
       "      <td>1.2537</td>\n",
       "      <td>-64.72202</td>\n",
       "      <td>-87.27946</td>\n",
       "    </tr>\n",
       "    <tr>\n",
       "      <th>...</th>\n",
       "      <td>...</td>\n",
       "      <td>...</td>\n",
       "      <td>...</td>\n",
       "      <td>...</td>\n",
       "      <td>...</td>\n",
       "    </tr>\n",
       "    <tr>\n",
       "      <th>6255</th>\n",
       "      <td>50</td>\n",
       "      <td>2018-02-02T20:11:23Z</td>\n",
       "      <td>0.4387</td>\n",
       "      <td>-74.74086</td>\n",
       "      <td>165.4884</td>\n",
       "    </tr>\n",
       "    <tr>\n",
       "      <th>6256</th>\n",
       "      <td>50</td>\n",
       "      <td>2018-02-02T20:11:26Z</td>\n",
       "      <td>0.401</td>\n",
       "      <td>-74.74086</td>\n",
       "      <td>165.4884</td>\n",
       "    </tr>\n",
       "    <tr>\n",
       "      <th>6257</th>\n",
       "      <td>50</td>\n",
       "      <td>2018-02-02T20:11:29Z</td>\n",
       "      <td>0.329</td>\n",
       "      <td>-74.74086</td>\n",
       "      <td>165.4884</td>\n",
       "    </tr>\n",
       "    <tr>\n",
       "      <th>6258</th>\n",
       "      <td>50</td>\n",
       "      <td>2018-02-02T20:11:32Z</td>\n",
       "      <td>0.2629</td>\n",
       "      <td>-74.74086</td>\n",
       "      <td>165.4884</td>\n",
       "    </tr>\n",
       "    <tr>\n",
       "      <th>6259</th>\n",
       "      <td>50</td>\n",
       "      <td>2018-02-02T20:11:36Z</td>\n",
       "      <td>0.1168</td>\n",
       "      <td>-74.74086</td>\n",
       "      <td>165.4884</td>\n",
       "    </tr>\n",
       "  </tbody>\n",
       "</table>\n",
       "<p>6260 rows × 5 columns</p>\n",
       "</div>"
      ],
      "text/plain": [
       "       Station                  time          Temperature       latitude  \\\n",
       "0     unitless                   UTC  degrees Celsius (C)  degrees_north   \n",
       "1            1  2017-12-26T19:16:13Z               1.2502      -64.72202   \n",
       "2            1  2017-12-26T19:16:17Z               1.2482      -64.72202   \n",
       "3            1  2017-12-26T19:16:19Z               1.2462      -64.72202   \n",
       "4            1  2017-12-26T19:16:22Z               1.2537      -64.72202   \n",
       "...        ...                   ...                  ...            ...   \n",
       "6255        50  2018-02-02T20:11:23Z               0.4387      -74.74086   \n",
       "6256        50  2018-02-02T20:11:26Z                0.401      -74.74086   \n",
       "6257        50  2018-02-02T20:11:29Z                0.329      -74.74086   \n",
       "6258        50  2018-02-02T20:11:32Z               0.2629      -74.74086   \n",
       "6259        50  2018-02-02T20:11:36Z               0.1168      -74.74086   \n",
       "\n",
       "         longitude  \n",
       "0     degrees_east  \n",
       "1        -87.27946  \n",
       "2        -87.27946  \n",
       "3        -87.27946  \n",
       "4        -87.27946  \n",
       "...            ...  \n",
       "6255      165.4884  \n",
       "6256      165.4884  \n",
       "6257      165.4884  \n",
       "6258      165.4884  \n",
       "6259      165.4884  \n",
       "\n",
       "[6260 rows x 5 columns]"
      ]
     },
     "execution_count": 4,
     "metadata": {},
     "output_type": "execute_result"
    }
   ],
   "source": [
    "# Import the downloaded .csv data into jupyter notebooks with the package Pandas\n",
    "import pandas as pd\n",
    "dataframe = pd.read_csv (\"bcodmo_dataset_815732.csv\", dtype='unicode')\n",
    "dataframe"
   ]
  },
  {
   "cell_type": "code",
   "execution_count": null,
   "id": "9a4c7ad0",
   "metadata": {},
   "outputs": [],
   "source": []
  }
 ],
 "metadata": {
  "kernelspec": {
   "display_name": "Python 3 (ipykernel)",
   "language": "python",
   "name": "python3"
  },
  "language_info": {
   "codemirror_mode": {
    "name": "ipython",
    "version": 3
   },
   "file_extension": ".py",
   "mimetype": "text/x-python",
   "name": "python",
   "nbconvert_exporter": "python",
   "pygments_lexer": "ipython3",
   "version": "3.9.7"
  }
 },
 "nbformat": 4,
 "nbformat_minor": 5
}
